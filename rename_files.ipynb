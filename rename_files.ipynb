{
 "cells": [
  {
   "cell_type": "code",
   "execution_count": 1,
   "id": "6807ada0",
   "metadata": {},
   "outputs": [],
   "source": [
    "import os"
   ]
  },
  {
   "cell_type": "code",
   "execution_count": 2,
   "id": "eb9d4004",
   "metadata": {},
   "outputs": [
    {
     "name": "stdout",
     "output_type": "stream",
     "text": [
      "Renommage terminé.\n"
     ]
    }
   ],
   "source": [
    "racine = \"output_processed_speakers\"\n",
    "\n",
    "for dossier in os.listdir(racine):\n",
    "    chemin_dossier = os.path.join(racine, dossier)\n",
    "    \n",
    "    if os.path.isdir(chemin_dossier):\n",
    "        compteur = 1\n",
    "        for fichier in os.listdir(chemin_dossier):\n",
    "            if fichier.endswith(\".wav\"):\n",
    "                ancien_chemin = os.path.join(chemin_dossier, fichier)\n",
    "                nouveau_nom = f\"{dossier}_{compteur}.wav\"\n",
    "                nouveau_chemin = os.path.join(chemin_dossier, nouveau_nom)\n",
    "                os.rename(ancien_chemin, nouveau_chemin)\n",
    "                compteur += 1\n",
    "\n",
    "print(\"Renommage terminé.\")"
   ]
  },
  {
   "cell_type": "code",
   "execution_count": null,
   "id": "1064d3d8",
   "metadata": {},
   "outputs": [],
   "source": []
  }
 ],
 "metadata": {
  "kernelspec": {
   "display_name": "Python 3",
   "language": "python",
   "name": "python3"
  },
  "language_info": {
   "codemirror_mode": {
    "name": "ipython",
    "version": 3
   },
   "file_extension": ".py",
   "mimetype": "text/x-python",
   "name": "python",
   "nbconvert_exporter": "python",
   "pygments_lexer": "ipython3",
   "version": "3.8.8"
  }
 },
 "nbformat": 4,
 "nbformat_minor": 5
}
