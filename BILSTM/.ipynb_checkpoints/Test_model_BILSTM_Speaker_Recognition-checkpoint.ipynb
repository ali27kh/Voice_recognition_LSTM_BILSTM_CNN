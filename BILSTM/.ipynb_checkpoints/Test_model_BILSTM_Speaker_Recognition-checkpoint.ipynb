{
 "cells": [
  {
   "cell_type": "code",
   "execution_count": 1,
   "id": "9ad64b8b",
   "metadata": {},
   "outputs": [],
   "source": [
    "import tensorflow as tf\n",
    "import librosa\n",
    "import numpy as np\n",
    "import pickle\n",
    "from sklearn.preprocessing import StandardScaler"
   ]
  },
  {
   "cell_type": "code",
   "execution_count": 2,
   "id": "0fd5b607",
   "metadata": {},
   "outputs": [],
   "source": [
    "# model and encoder\n",
    "loaded_model = tf.keras.models.load_model('model_speaker_recognition_BILSTM.keras')\n",
    "\n",
    "with open('label_encoder.pkl', 'rb') as encoder_file:\n",
    "    label_encoder = pickle.load(encoder_file)"
   ]
  },
  {
   "cell_type": "code",
   "execution_count": 3,
   "id": "c541487d",
   "metadata": {},
   "outputs": [],
   "source": [
    "# Function to extract features from a new audio file\n",
    "def extract_features_from_file(file_path, fixed_length=40):\n",
    "    try:\n",
    "        audio, sr = librosa.load(file_path, sr=None, duration=1)\n",
    "        mfccs = librosa.feature.mfcc(y=audio, sr=sr, n_mfcc=13)\n",
    "\n",
    "        # Normalize MFCC features\n",
    "        mfccs = StandardScaler().fit_transform(mfccs)\n",
    "\n",
    "        # Adjust the length of MFCC sequences (padding or truncating)\n",
    "        if mfccs.shape[1] < fixed_length:\n",
    "            pad_width = fixed_length - mfccs.shape[1]\n",
    "            mfccs = np.pad(mfccs, ((0, 0), (0, pad_width)), mode='constant')\n",
    "        else:\n",
    "            mfccs = mfccs[:, :fixed_length]  # Truncate if too long\n",
    "\n",
    "        return mfccs.T  # Transpose to match the input shape expected by the model\n",
    "    except Exception as e:\n",
    "        print(f\"Error processing {file_path}: {str(e)}\")\n",
    "        return None\n",
    "\n",
    "# Predict the speaker for a new audio file\n",
    "def predict_speaker(file_path):\n",
    "    features = extract_features_from_file(file_path)\n",
    "    \n",
    "    if features is not None:\n",
    "        features = np.expand_dims(features, axis=0)  # Add batch dimension\n",
    "        \n",
    "        # Make prediction\n",
    "        prediction_prob = loaded_model.predict(features)\n",
    "        predicted_class = np.argmax(prediction_prob, axis=1)\n",
    "        \n",
    "        # Decode the label\n",
    "        predicted_label = label_encoder.inverse_transform(predicted_class)\n",
    "        \n",
    "        print(f\"Predicted speaker for {file_path}: {predicted_label[0]}\")\n",
    "    else:\n",
    "        print(\"Could not extract features from the file.\")"
   ]
  },
  {
   "cell_type": "code",
   "execution_count": 4,
   "id": "177fe8f3",
   "metadata": {},
   "outputs": [
    {
     "name": "stdout",
     "output_type": "stream",
     "text": [
      "1/1 [==============================] - 1s 972ms/step\n",
      "Predicted speaker for Speaker9_test.wav: S9\n"
     ]
    }
   ],
   "source": [
    "# Test with a new audio file\n",
    "test_audio_path = \"Speaker9_test.wav\"\n",
    "predict_speaker(test_audio_path)"
   ]
  },
  {
   "cell_type": "code",
   "execution_count": null,
   "id": "d10d77b0",
   "metadata": {},
   "outputs": [],
   "source": []
  }
 ],
 "metadata": {
  "kernelspec": {
   "display_name": "Python 3",
   "language": "python",
   "name": "python3"
  },
  "language_info": {
   "codemirror_mode": {
    "name": "ipython",
    "version": 3
   },
   "file_extension": ".py",
   "mimetype": "text/x-python",
   "name": "python",
   "nbconvert_exporter": "python",
   "pygments_lexer": "ipython3",
   "version": "3.8.8"
  }
 },
 "nbformat": 4,
 "nbformat_minor": 5
}
