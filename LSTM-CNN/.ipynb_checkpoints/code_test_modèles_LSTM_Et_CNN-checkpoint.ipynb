{
 "cells": [
  {
   "cell_type": "code",
   "execution_count": 1,
   "id": "4bd9c291",
   "metadata": {},
   "outputs": [],
   "source": [
    "import os\n",
    "import numpy as np\n",
    "import librosa\n",
    "import pickle\n",
    "import tensorflow as tf\n",
    "from keras.models import load_model\n",
    "from sklearn.preprocessing import LabelEncoder"
   ]
  },
  {
   "cell_type": "code",
   "execution_count": 8,
   "id": "293f0b85",
   "metadata": {},
   "outputs": [],
   "source": [
    "# Charger le modèle entraîné\n",
    "model_path = \"model_speaker_recognition_CNN.keras\"\n",
    "model = load_model(model_path)\n",
    "\n",
    "# Charger le LabelEncoder\n",
    "with open(\"label_encoder.pkl\", \"rb\") as file:\n",
    "    label_encoder = pickle.load(file)"
   ]
  },
  {
   "cell_type": "code",
   "execution_count": 9,
   "id": "19b62176",
   "metadata": {},
   "outputs": [],
   "source": [
    "# Fonction pour extraire les caractéristiques d'un fichier audio\n",
    "def extract_features(file_path, max_length=216, n_mfcc=13):\n",
    "    waveform, sample_rate = librosa.load(file_path, sr=None)\n",
    "    mfccs = librosa.feature.mfcc(y=waveform, sr=sample_rate, n_mfcc=n_mfcc)\n",
    "\n",
    "    # Pad ou tronquer pour une longueur fixe\n",
    "    if mfccs.shape[1] < max_length:\n",
    "        features = np.pad(mfccs, ((0, 0), (0, max_length - mfccs.shape[1])))\n",
    "    else:\n",
    "        features = mfccs[:, :max_length]\n",
    "\n",
    "    # Ajouter une dimension pour correspondre à l'entrée du modèle\n",
    "    features = np.expand_dims(features, axis=-1)\n",
    "    \n",
    "    return np.expand_dims(features, axis=0)  # Ajouter batch dimension"
   ]
  },
  {
   "cell_type": "code",
   "execution_count": 10,
   "id": "5e9e14e4",
   "metadata": {},
   "outputs": [
    {
     "name": "stdout",
     "output_type": "stream",
     "text": [
      "1/1 [==============================] - 0s 57ms/step\n",
      "Le locuteur prédit est : Speaker0037\n"
     ]
    }
   ],
   "source": [
    "# Chemin du fichier audio à tester\n",
    "test_audio_path = \"test8.wav\"\n",
    "\n",
    "# Extraire les caractéristiques\n",
    "features_test = extract_features(test_audio_path)\n",
    "\n",
    "# Prédire la classe\n",
    "y_pred = model.predict(features_test)\n",
    "predicted_class = np.argmax(y_pred)\n",
    "\n",
    "# Convertir en label d'origine\n",
    "predicted_label = label_encoder.inverse_transform([predicted_class])[0]\n",
    "\n",
    "print(f\"Le locuteur prédit est : {predicted_label}\")"
   ]
  },
  {
   "cell_type": "code",
   "execution_count": null,
   "id": "df8ddcd8",
   "metadata": {},
   "outputs": [],
   "source": []
  }
 ],
 "metadata": {
  "kernelspec": {
   "display_name": "Python 3",
   "language": "python",
   "name": "python3"
  },
  "language_info": {
   "codemirror_mode": {
    "name": "ipython",
    "version": 3
   },
   "file_extension": ".py",
   "mimetype": "text/x-python",
   "name": "python",
   "nbconvert_exporter": "python",
   "pygments_lexer": "ipython3",
   "version": "3.8.8"
  }
 },
 "nbformat": 4,
 "nbformat_minor": 5
}
